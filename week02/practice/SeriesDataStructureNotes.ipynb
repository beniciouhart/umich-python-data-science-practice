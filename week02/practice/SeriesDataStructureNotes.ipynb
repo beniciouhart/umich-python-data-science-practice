{
 "cells": [
  {
   "cell_type": "markdown",
   "id": "4931e00b-bcdd-4667-a7e1-db4ec0e586ca",
   "metadata": {},
   "source": [
    "General Series Knowledge"
   ]
  },
  {
   "cell_type": "code",
   "execution_count": 14,
   "id": "60b837f6-3cca-49cf-9155-e2fe6c562497",
   "metadata": {},
   "outputs": [],
   "source": [
    "import pandas as pd"
   ]
  },
  {
   "cell_type": "code",
   "execution_count": 15,
   "id": "b5abe415-1f94-46c7-90f6-7bc67fa00b4b",
   "metadata": {},
   "outputs": [
    {
     "data": {
      "text/plain": [
       "0    Alice\n",
       "1     Jack\n",
       "2    Molly\n",
       "dtype: object"
      ]
     },
     "execution_count": 15,
     "metadata": {},
     "output_type": "execute_result"
    }
   ],
   "source": [
    "students = [\"Alice\", \"Jack\", 'Molly']\n",
    "pd.Series(students)"
   ]
  },
  {
   "cell_type": "code",
   "execution_count": 16,
   "id": "820cad68-b7a4-4291-a796-208bd7f2e77c",
   "metadata": {},
   "outputs": [],
   "source": [
    "#Series seems to return a cross between a list and a dict where each entry is labelled in increasing order starting from 0"
   ]
  },
  {
   "cell_type": "code",
   "execution_count": 17,
   "id": "980a6036-b046-4126-80ef-0bae18ef0f40",
   "metadata": {},
   "outputs": [
    {
     "data": {
      "text/plain": [
       "0    Alice\n",
       "1      Ben\n",
       "2     None\n",
       "dtype: object"
      ]
     },
     "execution_count": 17,
     "metadata": {},
     "output_type": "execute_result"
    }
   ],
   "source": [
    "students = [\"Alice\", \"Ben\", None]\n",
    "pd.Series(students)"
   ]
  },
  {
   "cell_type": "code",
   "execution_count": 18,
   "id": "572b9ad3-188a-473b-9c96-c5332d5e17fa",
   "metadata": {},
   "outputs": [
    {
     "data": {
      "text/plain": [
       "0    10\n",
       "1    11\n",
       "dtype: int64"
      ]
     },
     "execution_count": 18,
     "metadata": {},
     "output_type": "execute_result"
    }
   ],
   "source": [
    "students = [10, 11]\n",
    "pd.Series(students)"
   ]
  },
  {
   "cell_type": "code",
   "execution_count": 19,
   "id": "bc1080df-f623-4f30-8133-5cbe8f557f8b",
   "metadata": {},
   "outputs": [
    {
     "data": {
      "text/plain": [
       "0    10.0\n",
       "1    11.0\n",
       "2     NaN\n",
       "dtype: float64"
      ]
     },
     "execution_count": 19,
     "metadata": {},
     "output_type": "execute_result"
    }
   ],
   "source": [
    "students = [10, 11, None]\n",
    "pd.Series(students)"
   ]
  },
  {
   "cell_type": "code",
   "execution_count": 20,
   "id": "6d511db9-d473-46ca-affc-df3e14971a28",
   "metadata": {},
   "outputs": [],
   "source": [
    "#None is converted to NaN when the rest of the dtypes in the series are number-like, and NaN is stored as a float, so it has turned the series of two integers from int64 to float64."
   ]
  },
  {
   "cell_type": "code",
   "execution_count": 21,
   "id": "8fd80045-8f49-4be3-89c2-e91cf6492e5c",
   "metadata": {},
   "outputs": [],
   "source": [
    "#In pandas, NaN is not the same as None."
   ]
  },
  {
   "cell_type": "code",
   "execution_count": 22,
   "id": "9dcf579f-a6a3-4b16-97e3-d36a95466224",
   "metadata": {},
   "outputs": [
    {
     "data": {
      "text/plain": [
       "False"
      ]
     },
     "execution_count": 22,
     "metadata": {},
     "output_type": "execute_result"
    }
   ],
   "source": [
    "import numpy as np\n",
    "np.nan == None"
   ]
  },
  {
   "cell_type": "code",
   "execution_count": 23,
   "id": "7ec48f65-2970-464c-8d53-e4ada9c53dbd",
   "metadata": {},
   "outputs": [
    {
     "data": {
      "text/plain": [
       "False"
      ]
     },
     "execution_count": 23,
     "metadata": {},
     "output_type": "execute_result"
    }
   ],
   "source": [
    "np.nan == np.nan"
   ]
  },
  {
   "cell_type": "code",
   "execution_count": 24,
   "id": "032ba138-9da0-4e40-be02-a7623f7d88ff",
   "metadata": {},
   "outputs": [
    {
     "data": {
      "text/plain": [
       "True"
      ]
     },
     "execution_count": 24,
     "metadata": {},
     "output_type": "execute_result"
    }
   ],
   "source": [
    "np.isnan(np.nan)"
   ]
  },
  {
   "cell_type": "code",
   "execution_count": 25,
   "id": "6df06241-f7f0-4419-a9c7-6dc16eaf21d8",
   "metadata": {},
   "outputs": [],
   "source": [
    "# NaN is a numeric value and not the same as None."
   ]
  },
  {
   "cell_type": "code",
   "execution_count": 27,
   "id": "a1554311-0981-4fdc-a0bf-1130264d9936",
   "metadata": {},
   "outputs": [
    {
     "data": {
      "text/plain": [
       "Pedro       Math\n",
       "Juan     Science\n",
       "Ben        Stats\n",
       "dtype: object"
      ]
     },
     "execution_count": 27,
     "metadata": {},
     "output_type": "execute_result"
    }
   ],
   "source": [
    "#Series can be created directly from dictionary data.\n",
    "students_scores = {'Pedro': \"Math\", \"Juan\":\"Science\",\"Ben\":\"Stats\"}\n",
    "s = pd.Series(students_scores)\n",
    "s"
   ]
  },
  {
   "cell_type": "code",
   "execution_count": null,
   "id": "5cd4c831-2153-478a-a100-faab0788c364",
   "metadata": {},
   "outputs": [],
   "source": [
    "#Here, we can see that the indexes that we saw in the first few series have been turned to strings, corresponding to the key-value pairs found in the original dictionary."
   ]
  },
  {
   "cell_type": "code",
   "execution_count": 28,
   "id": "d0555688-9c6c-4e1c-92bc-4f8f0c163cd4",
   "metadata": {},
   "outputs": [
    {
     "data": {
      "text/plain": [
       "Index(['Pedro', 'Juan', 'Ben'], dtype='object')"
      ]
     },
     "execution_count": 28,
     "metadata": {},
     "output_type": "execute_result"
    }
   ],
   "source": [
    "s.index"
   ]
  },
  {
   "cell_type": "code",
   "execution_count": 29,
   "id": "b160e5e6-a55c-48ac-93fd-e65f4b97fe6c",
   "metadata": {},
   "outputs": [
    {
     "data": {
      "text/plain": [
       "'Math'"
      ]
     },
     "execution_count": 29,
     "metadata": {},
     "output_type": "execute_result"
    }
   ],
   "source": [
    "s['Pedro']"
   ]
  },
  {
   "cell_type": "code",
   "execution_count": null,
   "id": "93cfd357-c378-4b84-b585-f06dceabf201",
   "metadata": {},
   "outputs": [],
   "source": [
    "#We can access these key-value pairs in the same way that we would a dictionary, and if this were converted from a list, you could indx and slice this in the exact same way that you would for list."
   ]
  },
  {
   "cell_type": "code",
   "execution_count": 31,
   "id": "465e4a68-e80e-454e-9c30-3538a8587ecd",
   "metadata": {},
   "outputs": [
    {
     "data": {
      "text/plain": [
       "0        (Alice, Red)\n",
       "1    (Benicio, Green)\n",
       "2      (Nate, Yellow)\n",
       "dtype: object"
      ]
     },
     "execution_count": 31,
     "metadata": {},
     "output_type": "execute_result"
    }
   ],
   "source": [
    "students = [(\"Alice\",\"Red\"),(\"Benicio\",\"Green\"),(\"Nate\",\"Yellow\")]\n",
    "pd.Series(students)"
   ]
  },
  {
   "cell_type": "code",
   "execution_count": null,
   "id": "98d1c918-12f8-4ae3-af46-06bea7c3077a",
   "metadata": {},
   "outputs": [],
   "source": [
    "# Here, each tuple is stores as a series object, with the dtype object"
   ]
  },
  {
   "cell_type": "code",
   "execution_count": 34,
   "id": "e667c424-677c-487b-ab6b-984d6a2be7b7",
   "metadata": {},
   "outputs": [
    {
     "data": {
      "text/plain": [
       "Alice      Physics\n",
       "Ben      Chemistry\n",
       "Pepe       English\n",
       "dtype: object"
      ]
     },
     "execution_count": 34,
     "metadata": {},
     "output_type": "execute_result"
    }
   ],
   "source": [
    "s = pd.Series([\"Physics\",\"Chemistry\",\"English\"], index = [\"Alice\",\"Ben\", \"Pepe\"])\n",
    "s"
   ]
  },
  {
   "cell_type": "code",
   "execution_count": 37,
   "id": "dfc90c59-16ee-476f-bcc5-83edebea6efd",
   "metadata": {},
   "outputs": [],
   "source": [
    "# This only works if the indexes and values have the same amount of elements in them."
   ]
  },
  {
   "cell_type": "code",
   "execution_count": 42,
   "id": "dbf8af80-45b5-4b8d-a667-0a41f89e0522",
   "metadata": {},
   "outputs": [
    {
     "data": {
      "text/plain": [
       "Ben             Chem\n",
       "Roy     Y-Combinator\n",
       "Neel             NaN\n",
       "dtype: object"
      ]
     },
     "execution_count": 42,
     "metadata": {},
     "output_type": "execute_result"
    }
   ],
   "source": [
    "students_scores = {\"Ben\":\"Chem\", \"Roy\":\"Y-Combinator\", \"Mino\":\"UPenn Wharton\"}\n",
    "s = pd.Series(students_scores, index = [\"Ben\", \"Roy\", \"Neel\"])\n",
    "s"
   ]
  },
  {
   "cell_type": "code",
   "execution_count": null,
   "id": "006375e4-dd7a-4ff3-875c-83f14652756a",
   "metadata": {},
   "outputs": [],
   "source": [
    "# Since we defined the indexes of the values to be Ben, Roy and Neel, and there is no key corresponding to Neel in the dictionary we fed for the series, pandas assigns it the value of NaN"
   ]
  },
  {
   "cell_type": "markdown",
   "id": "bbf8e5f9-f18c-4ee9-b793-1f7fcb8c4768",
   "metadata": {},
   "source": [
    "Querying Series"
   ]
  },
  {
   "cell_type": "code",
   "execution_count": null,
   "id": "cbfa77de-b27d-4975-9efa-dc5cf550dab6",
   "metadata": {},
   "outputs": [],
   "source": [
    "# A pandas series can be queried by the index position and by the index label. When the index doesnt exist, querying by the position and label is the same.\n",
    "# To query by numeric location, you can use iloc, which starts the query at 0. To query by label, you can use the loc attribute."
   ]
  },
  {
   "cell_type": "code",
   "execution_count": 45,
   "id": "239374bf-7870-4e74-85ef-f80420acbeaa",
   "metadata": {},
   "outputs": [
    {
     "data": {
      "text/plain": [
       "Ben                                            Math\n",
       "Jon                                           Stats\n",
       "Pedro                                        pandas\n",
       "Jose     Am i ever gonna get good at typing fast???\n",
       "dtype: object"
      ]
     },
     "execution_count": 45,
     "metadata": {},
     "output_type": "execute_result"
    }
   ],
   "source": [
    "import pandas as pd\n",
    "students_classes = {\"Ben\":\"Math\", \"Jon\":\"Stats\", \"Pedro\": \"pandas\",\"Jose\":\"Am i ever gonna get good at typing fast???\"}\n",
    "s = pd.Series(students_classes)\n",
    "s"
   ]
  },
  {
   "cell_type": "code",
   "execution_count": 46,
   "id": "3c780fcc-b8b4-40a8-ab89-9dcb4b11d537",
   "metadata": {},
   "outputs": [
    {
     "data": {
      "text/plain": [
       "'Am i ever gonna get good at typing fast???'"
      ]
     },
     "execution_count": 46,
     "metadata": {},
     "output_type": "execute_result"
    }
   ],
   "source": [
    "s.iloc[3]\n"
   ]
  },
  {
   "cell_type": "code",
   "execution_count": 47,
   "id": "926a19d5-44e7-41fe-b1f8-69095b17b3ed",
   "metadata": {},
   "outputs": [
    {
     "data": {
      "text/plain": [
       "'Am i ever gonna get good at typing fast???'"
      ]
     },
     "execution_count": 47,
     "metadata": {},
     "output_type": "execute_result"
    }
   ],
   "source": [
    "s.loc[\"Jose\"]"
   ]
  },
  {
   "cell_type": "code",
   "execution_count": null,
   "id": "eae01a61-6aa0-4ae9-853a-793fe2fe7b9a",
   "metadata": {},
   "outputs": [],
   "source": [
    "#As we can see, these two refer to the same value.\n",
    "# loc and iloc are not methods, they are attributes.\n",
    "#Also, we dont need to use loc and iloc, if we index with an int in as the index, we will index like iloc, if we have a string, it will work like loc."
   ]
  },
  {
   "cell_type": "code",
   "execution_count": 49,
   "id": "d4482340-b8ee-4bae-be7c-10e505940a06",
   "metadata": {},
   "outputs": [
    {
     "data": {
      "text/plain": [
       "1003                                                Stats\n",
       "3003                                         Data Science\n",
       "4004    Intro to Machine Learning and Artificial Intel...\n",
       "dtype: object"
      ]
     },
     "execution_count": 49,
     "metadata": {},
     "output_type": "execute_result"
    }
   ],
   "source": [
    "class_code = {1003:\"Stats\",3003: \"Data Science\", 4004:\"Intro to Machine Learning and Artificial Intelligence\"}\n",
    "s = pd.Series(class_code)\n",
    "s"
   ]
  },
  {
   "cell_type": "code",
   "execution_count": 50,
   "id": "9b4e0437-036d-4b6b-a529-9c57591e19ae",
   "metadata": {},
   "outputs": [
    {
     "ename": "KeyError",
     "evalue": "0",
     "output_type": "error",
     "traceback": [
      "\u001b[0;31m---------------------------------------------------------------------------\u001b[0m",
      "\u001b[0;31mKeyError\u001b[0m                                  Traceback (most recent call last)",
      "File \u001b[0;32m/opt/conda/lib/python3.9/site-packages/pandas/core/indexes/base.py:3803\u001b[0m, in \u001b[0;36mIndex.get_loc\u001b[0;34m(self, key, method, tolerance)\u001b[0m\n\u001b[1;32m   3802\u001b[0m \u001b[38;5;28;01mtry\u001b[39;00m:\n\u001b[0;32m-> 3803\u001b[0m     \u001b[38;5;28;01mreturn\u001b[39;00m \u001b[38;5;28;43mself\u001b[39;49m\u001b[38;5;241;43m.\u001b[39;49m\u001b[43m_engine\u001b[49m\u001b[38;5;241;43m.\u001b[39;49m\u001b[43mget_loc\u001b[49m\u001b[43m(\u001b[49m\u001b[43mcasted_key\u001b[49m\u001b[43m)\u001b[49m\n\u001b[1;32m   3804\u001b[0m \u001b[38;5;28;01mexcept\u001b[39;00m \u001b[38;5;167;01mKeyError\u001b[39;00m \u001b[38;5;28;01mas\u001b[39;00m err:\n",
      "File \u001b[0;32m/opt/conda/lib/python3.9/site-packages/pandas/_libs/index.pyx:138\u001b[0m, in \u001b[0;36mpandas._libs.index.IndexEngine.get_loc\u001b[0;34m()\u001b[0m\n",
      "File \u001b[0;32m/opt/conda/lib/python3.9/site-packages/pandas/_libs/index.pyx:165\u001b[0m, in \u001b[0;36mpandas._libs.index.IndexEngine.get_loc\u001b[0;34m()\u001b[0m\n",
      "File \u001b[0;32mpandas/_libs/hashtable_class_helper.pxi:2263\u001b[0m, in \u001b[0;36mpandas._libs.hashtable.Int64HashTable.get_item\u001b[0;34m()\u001b[0m\n",
      "File \u001b[0;32mpandas/_libs/hashtable_class_helper.pxi:2273\u001b[0m, in \u001b[0;36mpandas._libs.hashtable.Int64HashTable.get_item\u001b[0;34m()\u001b[0m\n",
      "\u001b[0;31mKeyError\u001b[0m: 0",
      "\nThe above exception was the direct cause of the following exception:\n",
      "\u001b[0;31mKeyError\u001b[0m                                  Traceback (most recent call last)",
      "Cell \u001b[0;32mIn [50], line 1\u001b[0m\n\u001b[0;32m----> 1\u001b[0m \u001b[43ms\u001b[49m\u001b[43m[\u001b[49m\u001b[38;5;241;43m0\u001b[39;49m\u001b[43m]\u001b[49m\n",
      "File \u001b[0;32m/opt/conda/lib/python3.9/site-packages/pandas/core/series.py:981\u001b[0m, in \u001b[0;36mSeries.__getitem__\u001b[0;34m(self, key)\u001b[0m\n\u001b[1;32m    978\u001b[0m     \u001b[38;5;28;01mreturn\u001b[39;00m \u001b[38;5;28mself\u001b[39m\u001b[38;5;241m.\u001b[39m_values[key]\n\u001b[1;32m    980\u001b[0m \u001b[38;5;28;01melif\u001b[39;00m key_is_scalar:\n\u001b[0;32m--> 981\u001b[0m     \u001b[38;5;28;01mreturn\u001b[39;00m \u001b[38;5;28;43mself\u001b[39;49m\u001b[38;5;241;43m.\u001b[39;49m\u001b[43m_get_value\u001b[49m\u001b[43m(\u001b[49m\u001b[43mkey\u001b[49m\u001b[43m)\u001b[49m\n\u001b[1;32m    983\u001b[0m \u001b[38;5;28;01mif\u001b[39;00m is_hashable(key):\n\u001b[1;32m    984\u001b[0m     \u001b[38;5;66;03m# Otherwise index.get_value will raise InvalidIndexError\u001b[39;00m\n\u001b[1;32m    985\u001b[0m     \u001b[38;5;28;01mtry\u001b[39;00m:\n\u001b[1;32m    986\u001b[0m         \u001b[38;5;66;03m# For labels that don't resolve as scalars like tuples and frozensets\u001b[39;00m\n",
      "File \u001b[0;32m/opt/conda/lib/python3.9/site-packages/pandas/core/series.py:1089\u001b[0m, in \u001b[0;36mSeries._get_value\u001b[0;34m(self, label, takeable)\u001b[0m\n\u001b[1;32m   1086\u001b[0m     \u001b[38;5;28;01mreturn\u001b[39;00m \u001b[38;5;28mself\u001b[39m\u001b[38;5;241m.\u001b[39m_values[label]\n\u001b[1;32m   1088\u001b[0m \u001b[38;5;66;03m# Similar to Index.get_value, but we do not fall back to positional\u001b[39;00m\n\u001b[0;32m-> 1089\u001b[0m loc \u001b[38;5;241m=\u001b[39m \u001b[38;5;28;43mself\u001b[39;49m\u001b[38;5;241;43m.\u001b[39;49m\u001b[43mindex\u001b[49m\u001b[38;5;241;43m.\u001b[39;49m\u001b[43mget_loc\u001b[49m\u001b[43m(\u001b[49m\u001b[43mlabel\u001b[49m\u001b[43m)\u001b[49m\n\u001b[1;32m   1090\u001b[0m \u001b[38;5;28;01mreturn\u001b[39;00m \u001b[38;5;28mself\u001b[39m\u001b[38;5;241m.\u001b[39mindex\u001b[38;5;241m.\u001b[39m_get_values_for_loc(\u001b[38;5;28mself\u001b[39m, loc, label)\n",
      "File \u001b[0;32m/opt/conda/lib/python3.9/site-packages/pandas/core/indexes/base.py:3805\u001b[0m, in \u001b[0;36mIndex.get_loc\u001b[0;34m(self, key, method, tolerance)\u001b[0m\n\u001b[1;32m   3803\u001b[0m     \u001b[38;5;28;01mreturn\u001b[39;00m \u001b[38;5;28mself\u001b[39m\u001b[38;5;241m.\u001b[39m_engine\u001b[38;5;241m.\u001b[39mget_loc(casted_key)\n\u001b[1;32m   3804\u001b[0m \u001b[38;5;28;01mexcept\u001b[39;00m \u001b[38;5;167;01mKeyError\u001b[39;00m \u001b[38;5;28;01mas\u001b[39;00m err:\n\u001b[0;32m-> 3805\u001b[0m     \u001b[38;5;28;01mraise\u001b[39;00m \u001b[38;5;167;01mKeyError\u001b[39;00m(key) \u001b[38;5;28;01mfrom\u001b[39;00m \u001b[38;5;21;01merr\u001b[39;00m\n\u001b[1;32m   3806\u001b[0m \u001b[38;5;28;01mexcept\u001b[39;00m \u001b[38;5;167;01mTypeError\u001b[39;00m:\n\u001b[1;32m   3807\u001b[0m     \u001b[38;5;66;03m# If we have a listlike key, _check_indexing_error will raise\u001b[39;00m\n\u001b[1;32m   3808\u001b[0m     \u001b[38;5;66;03m#  InvalidIndexError. Otherwise we fall through and re-raise\u001b[39;00m\n\u001b[1;32m   3809\u001b[0m     \u001b[38;5;66;03m#  the TypeError.\u001b[39;00m\n\u001b[1;32m   3810\u001b[0m     \u001b[38;5;28mself\u001b[39m\u001b[38;5;241m.\u001b[39m_check_indexing_error(key)\n",
      "\u001b[0;31mKeyError\u001b[0m: 0"
     ]
    }
   ],
   "source": [
    "s[0]"
   ]
  },
  {
   "cell_type": "code",
   "execution_count": null,
   "id": "b8e5ae20-7876-4f19-bf32-566d66c89234",
   "metadata": {},
   "outputs": [],
   "source": [
    "# That doesnt work because the keys in the dict are also integers, and so pandas cannot distinguish between it being an iloc search or it trying to pull up the label index, thats why its best practice to use iloc and loc."
   ]
  },
  {
   "cell_type": "markdown",
   "id": "7418d4a5-8d59-4f51-8379-97dabff89570",
   "metadata": {},
   "source": [
    "Working with Data"
   ]
  },
  {
   "cell_type": "code",
   "execution_count": 54,
   "id": "2f33cf69-c178-4a43-92c3-8c9d8db83b9d",
   "metadata": {},
   "outputs": [
    {
     "ename": "AttributeError",
     "evalue": "module 'numpy' has no attribute 'avg'",
     "output_type": "error",
     "traceback": [
      "\u001b[0;31m---------------------------------------------------------------------------\u001b[0m",
      "\u001b[0;31mAttributeError\u001b[0m                            Traceback (most recent call last)",
      "Cell \u001b[0;32mIn [54], line 2\u001b[0m\n\u001b[1;32m      1\u001b[0m grades \u001b[38;5;241m=\u001b[39m pd\u001b[38;5;241m.\u001b[39mSeries([\u001b[38;5;241m91\u001b[39m,\u001b[38;5;241m81\u001b[39m,\u001b[38;5;241m92\u001b[39m,\u001b[38;5;241m75\u001b[39m,\u001b[38;5;241m88\u001b[39m])\n\u001b[0;32m----> 2\u001b[0m \u001b[43mnp\u001b[49m\u001b[38;5;241;43m.\u001b[39;49m\u001b[43mavg\u001b[49m(grades)\n",
      "File \u001b[0;32m/opt/conda/lib/python3.9/site-packages/numpy/__init__.py:313\u001b[0m, in \u001b[0;36m__getattr__\u001b[0;34m(attr)\u001b[0m\n\u001b[1;32m    310\u001b[0m     \u001b[38;5;28;01mfrom\u001b[39;00m \u001b[38;5;21;01m.\u001b[39;00m\u001b[38;5;21;01mtesting\u001b[39;00m \u001b[38;5;28;01mimport\u001b[39;00m Tester\n\u001b[1;32m    311\u001b[0m     \u001b[38;5;28;01mreturn\u001b[39;00m Tester\n\u001b[0;32m--> 313\u001b[0m \u001b[38;5;28;01mraise\u001b[39;00m \u001b[38;5;167;01mAttributeError\u001b[39;00m(\u001b[38;5;124m\"\u001b[39m\u001b[38;5;124mmodule \u001b[39m\u001b[38;5;132;01m{!r}\u001b[39;00m\u001b[38;5;124m has no attribute \u001b[39m\u001b[38;5;124m\"\u001b[39m\n\u001b[1;32m    314\u001b[0m                      \u001b[38;5;124m\"\u001b[39m\u001b[38;5;132;01m{!r}\u001b[39;00m\u001b[38;5;124m\"\u001b[39m\u001b[38;5;241m.\u001b[39mformat(\u001b[38;5;18m__name__\u001b[39m, attr))\n",
      "\u001b[0;31mAttributeError\u001b[0m: module 'numpy' has no attribute 'avg'"
     ]
    }
   ],
   "source": [
    "grades = pd.Series([91,81,92,75,88])\n",
    "# We wanna get the average of this dataset."
   ]
  },
  {
   "cell_type": "code",
   "execution_count": 56,
   "id": "4c002ea4-56d3-4fa9-b9b2-5a2c7ecd0591",
   "metadata": {},
   "outputs": [
    {
     "name": "stdout",
     "output_type": "stream",
     "text": [
      "85.4\n"
     ]
    }
   ],
   "source": [
    "total = np.sum(grades)\n",
    "print(total/len(grades))"
   ]
  },
  {
   "cell_type": "code",
   "execution_count": 59,
   "id": "d0c6db55-64b1-4eb1-b479-7a9375bed7bb",
   "metadata": {},
   "outputs": [
    {
     "data": {
      "text/plain": [
       "0       7069\n",
       "1       4068\n",
       "2       8384\n",
       "3       8094\n",
       "4       2433\n",
       "        ... \n",
       "9995    1412\n",
       "9996    2440\n",
       "9997    4344\n",
       "9998    3417\n",
       "9999    6993\n",
       "Length: 10000, dtype: int64"
      ]
     },
     "execution_count": 59,
     "metadata": {},
     "output_type": "execute_result"
    }
   ],
   "source": [
    "numbers = pd.Series(np.random.randint(0, 10000,10000))\n",
    "numbers"
   ]
  },
  {
   "cell_type": "code",
   "execution_count": null,
   "id": "4f2d0a88-049d-484e-a4f9-05a704c75f05",
   "metadata": {},
   "outputs": [],
   "source": [
    "#So here we have created a series with 10000 entries that has random numbers ranging from 1 to 10000. Very cool."
   ]
  },
  {
   "cell_type": "code",
   "execution_count": 60,
   "id": "76cfaa5d-acfa-4c03-a4c8-cc8892076d0e",
   "metadata": {},
   "outputs": [
    {
     "data": {
      "text/plain": [
       "0    7069\n",
       "1    4068\n",
       "2    8384\n",
       "3    8094\n",
       "4    2433\n",
       "dtype: int64"
      ]
     },
     "execution_count": 60,
     "metadata": {},
     "output_type": "execute_result"
    }
   ],
   "source": [
    "numbers.head()"
   ]
  },
  {
   "cell_type": "code",
   "execution_count": null,
   "id": "cdcf680f-3994-426b-8de7-c1b3aa0ab3c2",
   "metadata": {},
   "outputs": [],
   "source": [
    "# head will return the top five items in the series.\n"
   ]
  },
  {
   "cell_type": "code",
   "execution_count": 61,
   "id": "cc6ac3ab-f39c-4af7-b743-139afa6d0f1c",
   "metadata": {},
   "outputs": [
    {
     "name": "stdout",
     "output_type": "stream",
     "text": [
      "1.03 ms ± 29.6 µs per loop (mean ± std. dev. of 7 runs, 100 loops each)\n"
     ]
    }
   ],
   "source": [
    "%%timeit -n 100\n",
    "total =0\n",
    "for number in numbers:\n",
    "    total += number\n",
    "total/ len(numbers)"
   ]
  },
  {
   "cell_type": "code",
   "execution_count": 63,
   "id": "54aa3016-9263-4739-a9ec-fa1bb59fa56b",
   "metadata": {},
   "outputs": [
    {
     "name": "stdout",
     "output_type": "stream",
     "text": [
      "54.6 µs ± 10.1 µs per loop (mean ± std. dev. of 7 runs, 100 loops each)\n"
     ]
    }
   ],
   "source": [
    "%%timeit -n 100\n",
    "total = np.sum(numbers)\n",
    "total/len(numbers)"
   ]
  },
  {
   "cell_type": "code",
   "execution_count": null,
   "id": "ea2fe363-975b-46ba-9844-c912b787c851",
   "metadata": {},
   "outputs": [],
   "source": [
    "# Damn thats a lot faster, this is using parallel computing, which makes it insanely faster than the normal non native function way.\n"
   ]
  },
  {
   "cell_type": "code",
   "execution_count": 64,
   "id": "725064de-efe3-43f2-aeae-f053e54b56d7",
   "metadata": {},
   "outputs": [
    {
     "data": {
      "text/plain": [
       "0    7069\n",
       "1    4068\n",
       "2    8384\n",
       "3    8094\n",
       "4    2433\n",
       "dtype: int64"
      ]
     },
     "execution_count": 64,
     "metadata": {},
     "output_type": "execute_result"
    }
   ],
   "source": [
    "numbers.head()"
   ]
  },
  {
   "cell_type": "code",
   "execution_count": 65,
   "id": "c1753204-3dcc-4535-9e4e-deca30d6a252",
   "metadata": {},
   "outputs": [
    {
     "data": {
      "text/plain": [
       "0    7071\n",
       "1    4070\n",
       "2    8386\n",
       "3    8096\n",
       "4    2435\n",
       "dtype: int64"
      ]
     },
     "execution_count": 65,
     "metadata": {},
     "output_type": "execute_result"
    }
   ],
   "source": [
    "numbers += 2\n",
    "numbers.head()"
   ]
  },
  {
   "cell_type": "code",
   "execution_count": null,
   "id": "a97f89cc-4345-40b4-bfe6-c77b619d536c",
   "metadata": {},
   "outputs": [],
   "source": [
    "# Like with matrices, we can add scalars to the whole series in one go."
   ]
  },
  {
   "cell_type": "code",
   "execution_count": 66,
   "id": "4ba4a400-107c-4db1-80a9-83bb39ff9a4c",
   "metadata": {},
   "outputs": [
    {
     "ename": "AttributeError",
     "evalue": "'Series' object has no attribute 'set_value'",
     "output_type": "error",
     "traceback": [
      "\u001b[0;31m---------------------------------------------------------------------------\u001b[0m",
      "\u001b[0;31mAttributeError\u001b[0m                            Traceback (most recent call last)",
      "Cell \u001b[0;32mIn [66], line 2\u001b[0m\n\u001b[1;32m      1\u001b[0m \u001b[38;5;28;01mfor\u001b[39;00m label, value \u001b[38;5;129;01min\u001b[39;00m numbers\u001b[38;5;241m.\u001b[39miteritems():\n\u001b[0;32m----> 2\u001b[0m     \u001b[43mnumbers\u001b[49m\u001b[38;5;241;43m.\u001b[39;49m\u001b[43mset_value\u001b[49m(label,value\u001b[38;5;241m+\u001b[39m\u001b[38;5;241m2\u001b[39m)\n\u001b[1;32m      4\u001b[0m numbers\u001b[38;5;241m.\u001b[39mhead()\n",
      "File \u001b[0;32m/opt/conda/lib/python3.9/site-packages/pandas/core/generic.py:5902\u001b[0m, in \u001b[0;36mNDFrame.__getattr__\u001b[0;34m(self, name)\u001b[0m\n\u001b[1;32m   5895\u001b[0m \u001b[38;5;28;01mif\u001b[39;00m (\n\u001b[1;32m   5896\u001b[0m     name \u001b[38;5;129;01mnot\u001b[39;00m \u001b[38;5;129;01min\u001b[39;00m \u001b[38;5;28mself\u001b[39m\u001b[38;5;241m.\u001b[39m_internal_names_set\n\u001b[1;32m   5897\u001b[0m     \u001b[38;5;129;01mand\u001b[39;00m name \u001b[38;5;129;01mnot\u001b[39;00m \u001b[38;5;129;01min\u001b[39;00m \u001b[38;5;28mself\u001b[39m\u001b[38;5;241m.\u001b[39m_metadata\n\u001b[1;32m   5898\u001b[0m     \u001b[38;5;129;01mand\u001b[39;00m name \u001b[38;5;129;01mnot\u001b[39;00m \u001b[38;5;129;01min\u001b[39;00m \u001b[38;5;28mself\u001b[39m\u001b[38;5;241m.\u001b[39m_accessors\n\u001b[1;32m   5899\u001b[0m     \u001b[38;5;129;01mand\u001b[39;00m \u001b[38;5;28mself\u001b[39m\u001b[38;5;241m.\u001b[39m_info_axis\u001b[38;5;241m.\u001b[39m_can_hold_identifiers_and_holds_name(name)\n\u001b[1;32m   5900\u001b[0m ):\n\u001b[1;32m   5901\u001b[0m     \u001b[38;5;28;01mreturn\u001b[39;00m \u001b[38;5;28mself\u001b[39m[name]\n\u001b[0;32m-> 5902\u001b[0m \u001b[38;5;28;01mreturn\u001b[39;00m \u001b[38;5;28;43mobject\u001b[39;49m\u001b[38;5;241;43m.\u001b[39;49m\u001b[38;5;21;43m__getattribute__\u001b[39;49m\u001b[43m(\u001b[49m\u001b[38;5;28;43mself\u001b[39;49m\u001b[43m,\u001b[49m\u001b[43m \u001b[49m\u001b[43mname\u001b[49m\u001b[43m)\u001b[49m\n",
      "\u001b[0;31mAttributeError\u001b[0m: 'Series' object has no attribute 'set_value'"
     ]
    }
   ],
   "source": [
    "for label, value in numbers.iteritems():\n",
    "    numbers.set_value(label,value+2)\n",
    "    \n",
    "numbers.head()\n",
    "    "
   ]
  },
  {
   "cell_type": "code",
   "execution_count": null,
   "id": "66a0156a-849a-4ded-bc69-2df05e479481",
   "metadata": {},
   "outputs": [],
   "source": [
    "# set_value is dead unfortunately.\n",
    "# Despite set_value being dead, the whole point of this is the fact that the integrated np and pd functions are always gonna be faster than the ones that you can try to make yourself."
   ]
  },
  {
   "cell_type": "code",
   "execution_count": null,
   "id": "0fc42807-90fb-410e-a10f-f9a80bcf128b",
   "metadata": {},
   "outputs": [],
   "source": [
    "# The .loc attribute lets us edit series data in place, and also add data to our datasets as well, if the value that we pass as an index doesnt exist ,then pandas adds new value. Indices can have mixed types."
   ]
  },
  {
   "cell_type": "code",
   "execution_count": null,
   "id": "9c36f2c6-e2ad-49a3-91de-281821f8f24e",
   "metadata": {},
   "outputs": [],
   "source": [
    "# pandas will automatically change the underlying np types as appropriate."
   ]
  },
  {
   "cell_type": "code",
   "execution_count": 67,
   "id": "aa317464-850f-4ca8-a85a-2ed180fc93ef",
   "metadata": {},
   "outputs": [
    {
     "data": {
      "text/plain": [
       "0         1\n",
       "1         2\n",
       "2         3\n",
       "Math    102\n",
       "dtype: int64"
      ]
     },
     "execution_count": 67,
     "metadata": {},
     "output_type": "execute_result"
    }
   ],
   "source": [
    "s = pd.Series([1,2,3])\n",
    "s.loc[\"Math\"] =102\n",
    "s"
   ]
  },
  {
   "cell_type": "code",
   "execution_count": null,
   "id": "5dcfdefa-8394-4125-a35e-338214d5cab6",
   "metadata": {},
   "outputs": [],
   "source": [
    "# here, pandas added the element in place."
   ]
  },
  {
   "cell_type": "code",
   "execution_count": 68,
   "id": "1687f327-650a-40f7-9ef5-5c1aa538a921",
   "metadata": {},
   "outputs": [
    {
     "data": {
      "text/plain": [
       "Alice                                        Physics\n",
       "Ben      Why tf am i so slow at typing am i stupid??\n",
       "dtype: object"
      ]
     },
     "execution_count": 68,
     "metadata": {},
     "output_type": "execute_result"
    }
   ],
   "source": [
    "# Lets create a Series where we have repeated index values.\n",
    "\n",
    "students_classes = pd.Series({\"Alice\":\"Physics\", \"Ben\":\"Math\",\"Ben\":\"Why tf am i so slow at typing am i stupid??\"})\n",
    "students_classes"
   ]
  },
  {
   "cell_type": "code",
   "execution_count": null,
   "id": "f9b2730f-eb91-4926-93cc-bfe66b0596f9",
   "metadata": {},
   "outputs": [],
   "source": [
    "# Here pandas fully killed Math, it absolutely ignored it, instead of creating a new index for Ben with it showing up right above thge one where im complaining about my typing."
   ]
  },
  {
   "cell_type": "code",
   "execution_count": null,
   "id": "802d9e39-452b-4576-971c-a7aa5141002e",
   "metadata": {},
   "outputs": [],
   "source": []
  }
 ],
 "metadata": {
  "kernelspec": {
   "display_name": "Python 3 (ipykernel)",
   "language": "python",
   "name": "python3"
  },
  "language_info": {
   "codemirror_mode": {
    "name": "ipython",
    "version": 3
   },
   "file_extension": ".py",
   "mimetype": "text/x-python",
   "name": "python",
   "nbconvert_exporter": "python",
   "pygments_lexer": "ipython3",
   "version": "3.9.13"
  }
 },
 "nbformat": 4,
 "nbformat_minor": 5
}
