{
 "cells": [
  {
   "cell_type": "markdown",
   "id": "c7653e0a-1d2c-43ca-bbae-39364bec0ab3",
   "metadata": {},
   "source": [
    "REGEX Practice - Week 1"
   ]
  },
  {
   "cell_type": "code",
   "execution_count": 2,
   "id": "51ebcc68-0cef-45a9-99fd-35996be0343c",
   "metadata": {},
   "outputs": [
    {
     "name": "stdout",
     "output_type": "stream",
     "text": [
      "Great!\n"
     ]
    }
   ],
   "source": [
    "import re\n",
    "text = \"This is a good day\"\n",
    "if re.search(\"good\", text):\n",
    "# I understand the first parameter here is the pattern and the second parameter is the string being parsed for that pattern.\n",
    "    print(\"Great!\")\n",
    "else:\n",
    "    print(\"Keep grinding\")"
   ]
  },
  {
   "cell_type": "code",
   "execution_count": 15,
   "id": "077bf7a7-4e4d-44ce-915c-033835fe1591",
   "metadata": {},
   "outputs": [
    {
     "name": "stdout",
     "output_type": "stream",
     "text": [
      "['', ' is great. ', ' will get a job in Data Science. ', ' will be happy.']\n"
     ]
    }
   ],
   "source": [
    "# Let's try to tokenize a sentence, like I heard about from LLMs.\n",
    "\n",
    "manifesting = \"Ben is great. Ben will get a job in Data Science. Ben will be happy.\"\n",
    "#re.split(\"Ben\", manifesting)\n",
    "# So after running this I understand that this is not really different from a normal split\n",
    "#print(manifesting.split(\"Ben\"))"
   ]
  },
  {
   "cell_type": "code",
   "execution_count": 19,
   "id": "1d3efb0f-d65d-4698-ab34-ca3bb29fc6ea",
   "metadata": {},
   "outputs": [
    {
     "data": {
      "text/plain": [
       "['Ben', 'Ben', 'Ben']"
      ]
     },
     "execution_count": 19,
     "metadata": {},
     "output_type": "execute_result"
    }
   ],
   "source": [
    "re.findall(\"Ben\", manifesting)\n",
    "# So I understand that this just returns all the instances of a pattern, but it would probably be more helpful for it to return the indexes or something so I can better understand where the patterns appear."
   ]
  },
  {
   "cell_type": "code",
   "execution_count": 20,
   "id": "fd15a547-f6b3-4dcd-a2ca-3e5818bf3cb1",
   "metadata": {},
   "outputs": [
    {
     "data": {
      "text/plain": [
       "<re.Match object; span=(0, 3), match='Ben'>"
      ]
     },
     "execution_count": 20,
     "metadata": {},
     "output_type": "execute_result"
    }
   ],
   "source": [
    "re.search(\"Ben\", manifesting)"
   ]
  },
  {
   "cell_type": "code",
   "execution_count": null,
   "id": "b0c9d954-02bc-4b92-bb2a-30381bb54000",
   "metadata": {},
   "outputs": [],
   "source": [
    "#After running this I understand that search returns the result of the match, tells us where it found it, and returns what pattern was matches, and it seems like it shortcuts and only returns the first match that it finds within the string."
   ]
  },
  {
   "cell_type": "markdown",
   "id": "46822149-36c6-43d8-afd8-bc495352856a",
   "metadata": {},
   "source": [
    "Patterns and Character Classes"
   ]
  },
  {
   "cell_type": "code",
   "execution_count": 29,
   "id": "f65f7434-e43c-4f6e-8a83-32253c9d17a3",
   "metadata": {},
   "outputs": [
    {
     "data": {
      "text/plain": [
       "5"
      ]
     },
     "execution_count": 29,
     "metadata": {},
     "output_type": "execute_result"
    }
   ],
   "source": [
    "grades = \"AABCDACCCBD\"\n",
    "re.findall(\"B\",grades)\n",
    "#I understand that, if I want to search for all A and B separately, I need to have \"[AB]\" as my parameter, because, if i do \"AB\", it will just return the instances of AB together, which I dont want.\n",
    "re.findall(\"[AB]\", grades)\n",
    "#I'm kinda curious on how I can use this to be able to count the amount of A's and B's in the string.\n",
    "len(re.findall(\"[AB]\",grades))"
   ]
  },
  {
   "cell_type": "code",
   "execution_count": 30,
   "id": "782e85de-cb19-4767-9241-4092bdc8888d",
   "metadata": {},
   "outputs": [
    {
     "data": {
      "text/plain": [
       "['AB', 'AC']"
      ]
     },
     "execution_count": 30,
     "metadata": {},
     "output_type": "execute_result"
    }
   ],
   "source": [
    "#OK now i want to see how many A's were followed by B or C.\n",
    "re.findall(\"[A][B-C]\",grades)\n",
    "re.findall(\"AB|AC\",grades)"
   ]
  },
  {
   "cell_type": "code",
   "execution_count": 31,
   "id": "f2457338-6b00-4455-8581-ad978a0980f9",
   "metadata": {},
   "outputs": [
    {
     "data": {
      "text/plain": [
       "['B', 'C', 'D', 'C', 'C', 'C', 'B', 'D']"
      ]
     },
     "execution_count": 31,
     "metadata": {},
     "output_type": "execute_result"
    }
   ],
   "source": [
    "# What about all the entries without A's?\n",
    "# I understand that using the caret(^) anchors the beginning of a string, and a dollar sign($) the end. \n",
    "#When used in a parameter for findall(), it negates the result, works as a \"Not\" operator in math.\n",
    "re.findall(\"[^A]\", grades)"
   ]
  },
  {
   "cell_type": "code",
   "execution_count": 32,
   "id": "1e47ea37-0ba9-4fca-8ae2-c865313d2bd5",
   "metadata": {},
   "outputs": [
    {
     "data": {
      "text/plain": [
       "[]"
      ]
     },
     "execution_count": 32,
     "metadata": {},
     "output_type": "execute_result"
    }
   ],
   "source": [
    "# Maybe this logic is the same as in Math 1C03, searching for [^[^A]] will just return all the A's, since its a double negative.\n",
    "re.findall(\"^[^A]\", grades)"
   ]
  },
  {
   "cell_type": "code",
   "execution_count": 33,
   "id": "016ecf94-4bd8-42b9-9af8-1cd86bf92065",
   "metadata": {},
   "outputs": [
    {
     "data": {
      "text/plain": [
       "[]"
      ]
     },
     "execution_count": 33,
     "metadata": {},
     "output_type": "execute_result"
    }
   ],
   "source": [
    "# OK I guess we just dont do that here, but after researching I understand that what it is doing is matching for the first character in the string that is not an A.\n",
    "# The caret outside the first square bracket indicates that we are searching for the first character, what happens if i try a $ instead?\n",
    "re.findall(\"$[^A]\", grades)"
   ]
  },
  {
   "cell_type": "code",
   "execution_count": 34,
   "id": "a5b6855f-2abb-4d96-8552-f76ecf3d2fa4",
   "metadata": {},
   "outputs": [
    {
     "data": {
      "text/plain": [
       "['D']"
      ]
     },
     "execution_count": 34,
     "metadata": {},
     "output_type": "execute_result"
    }
   ],
   "source": [
    "# After asking my good friend ChatGPT I understand that this is because I am technically searching for a character after the last character here, so of course im getting an empty string.\n",
    "re.findall(r\"[^A]$\", grades)"
   ]
  },
  {
   "cell_type": "code",
   "execution_count": null,
   "id": "ce4ed793-68f0-4b4e-bb6e-eeda0177d4a3",
   "metadata": {},
   "outputs": [],
   "source": [
    "# So I understand that what the r is doing there is letting the regex know that it is a raw string, what happens without it?"
   ]
  },
  {
   "cell_type": "code",
   "execution_count": 35,
   "id": "31d38e11-3f30-4a4f-8711-cc82fc916e11",
   "metadata": {},
   "outputs": [
    {
     "data": {
      "text/plain": [
       "['D']"
      ]
     },
     "execution_count": 35,
     "metadata": {},
     "output_type": "execute_result"
    }
   ],
   "source": [
    "re.findall(\"[^A]$\",grades)"
   ]
  },
  {
   "cell_type": "code",
   "execution_count": null,
   "id": "347fe02b-1834-4318-9df1-f277c40f2085",
   "metadata": {},
   "outputs": [],
   "source": [
    "# It still works without the r??\n",
    "# After asking my customized Data Science GPT, I understand that there is a purpose to this, it is best practice as it makes it easier to deal with backslashes, i understand d is for digits, w is for whitespace, and r is for raw strings."
   ]
  },
  {
   "cell_type": "markdown",
   "id": "39721959-40a3-4303-8fed-ded443a12b9c",
   "metadata": {},
   "source": [
    "Quantifiers"
   ]
  },
  {
   "cell_type": "code",
   "execution_count": 4,
   "id": "b82953d8-223a-4098-a33b-7833b7dd27d0",
   "metadata": {},
   "outputs": [],
   "source": [
    "import re"
   ]
  },
  {
   "cell_type": "code",
   "execution_count": 5,
   "id": "9226008b-f5b2-4fa0-bb9d-a65c2a2c408c",
   "metadata": {},
   "outputs": [
    {
     "data": {
      "text/plain": [
       "['AA', 'A']"
      ]
     },
     "execution_count": 5,
     "metadata": {},
     "output_type": "execute_result"
    }
   ],
   "source": [
    "grades = \"AABCDACCCBD\"\n",
    "# From video: The number of times you want a pattern to be matched in order to match.\n",
    "# I understand this as being a motion sensor for example, which sends a signal after registering motion for the nth time.\n",
    "# Most basic quantifier is e{m,n}, e is our expression we want to be matched, m is the minimum amount of times we want it to be matched, n is the max amount of times we want it to be matched.\n",
    "re.findall(\"A{1,3}\", grades)\n"
   ]
  },
  {
   "cell_type": "code",
   "execution_count": 6,
   "id": "73517b0a-bddb-4ad2-a93f-7424fa9bdb0b",
   "metadata": {},
   "outputs": [
    {
     "data": {
      "text/plain": [
       "['BC']"
      ]
     },
     "execution_count": 6,
     "metadata": {},
     "output_type": "execute_result"
    }
   ],
   "source": [
    "re.findall('B{1,2}C{1,1}',grades)\n",
    "# After running, I understand that what this does is return the occasions in which there is 1-2 B's followed up by a C."
   ]
  },
  {
   "cell_type": "code",
   "execution_count": 7,
   "id": "c3b7a924-9d64-4457-838a-cb994c332e11",
   "metadata": {},
   "outputs": [
    {
     "data": {
      "text/plain": [
       "['A', 'A', 'A']"
      ]
     },
     "execution_count": 7,
     "metadata": {},
     "output_type": "execute_result"
    }
   ],
   "source": [
    "re.findall(\"A{1,1}\", grades) # This wont work\n",
    "re.findall(\"AA\",grades) # This will work\n",
    "\n",
    "# Minimum cant equal maximum in REGEX quantifiers\n",
    "# Despite this, can use a single number in your quantifier, and it will work\n",
    "re.findall(\"A{1}\",grades)\n"
   ]
  },
  {
   "cell_type": "code",
   "execution_count": 8,
   "id": "a43fe64e-35dc-4855-b77b-0ea9b41f353d",
   "metadata": {},
   "outputs": [],
   "source": [
    "import re\n",
    "grades = \"AABCDACCCBD\"\n",
    "re.search(\"Ben\",grades)"
   ]
  },
  {
   "cell_type": "code",
   "execution_count": 9,
   "id": "ac1f6782-cc6f-4f9e-8b1b-33638ea748c7",
   "metadata": {},
   "outputs": [
    {
     "name": "stdout",
     "output_type": "stream",
     "text": [
      "Family Educational Rights and Privacy Act[edit]\\nThe Family Educational Rights and Privacy Act of 1974 (FERPA or the Buckley Amendment) is a United States federal law that governs the access to educational information and records by public entities such as potential employers, publicly funded educational institutions, and foreign governments.\\n\\nOverview[edit]\\nFERPA gives parents access to their child's education records, an opportunity to seek to have the records amended, and some control over the disclosure of information from the records. With several exceptions, schools must have a student's consent prior to the disclosure of education records after that student is 18 years old. The law applies only to educational agencies and institutions that receive funds under a program administered by the U.S. Department of Education.\\n\\nStudent medical records[edit]\\nLegal experts have debated the issue of whether student medical records (e.g. records of therapy sessions with a therapist at an on-campus counseling center) might be released to the school administration under certain triggering events, such as when a student sues his or her college or university.\\n\\nAccess to public records[edit]\\nFERPA is criticized as being used by educational institutions to conceal public records that are not \\\"educational\\\" in nature. For example, in the Owasso Independent School District v. Falvo case, an important part of the debate was determining the relationship between peer‑grading and \\\"education records\\\" as defined in FERPA. In the Court of Appeals, it was ruled that students placing grades on the work of other students made such work into an \\\"education record.\\\" Thus, peer‑grading was defined as a violation of FERPA privacy policies because students had access to other students’ academic performance without full consent. However, when the case went to the Supreme Court, it was officially ruled that peer‑grading was not a violation of FERPA.\\n\n"
     ]
    }
   ],
   "source": [
    "import re\n",
    "\n",
    "with open(\"ferpa.txt\",\"r\") as file:\n",
    "    ferpa = file.read()\n",
    "print(ferpa)\n"
   ]
  },
  {
   "cell_type": "code",
   "execution_count": 10,
   "id": "c01c5249-2ed6-4128-bc41-2822728bf558",
   "metadata": {},
   "outputs": [
    {
     "data": {
      "text/plain": [
       "['Act[edit]', 'nOverview[edit]', 'records[edit]', 'records[edit]']"
      ]
     },
     "execution_count": 10,
     "metadata": {},
     "output_type": "execute_result"
    }
   ],
   "source": [
    "re.findall(\"[a-zA-Z]{1,100}\\[edit\\]\",ferpa)"
   ]
  },
  {
   "cell_type": "code",
   "execution_count": 11,
   "id": "c8be0f5e-f27b-4251-a7aa-03cffef14f16",
   "metadata": {},
   "outputs": [
    {
     "data": {
      "text/plain": [
       "['Family Educational Rights and Privacy Act[edit]',\n",
       " 'nOverview[edit]',\n",
       " 'nStudent medical records[edit]',\n",
       " 'nAccess to public records[edit]']"
      ]
     },
     "execution_count": 11,
     "metadata": {},
     "output_type": "execute_result"
    }
   ],
   "source": [
    "# We can use the \\w command to match any letter including digits and numbers. So here we are matching any word character, followed by [edit\\].\n",
    "# \\w is a metacharacter, it indicates a special pattern of any letter or digit. zThere are acutally a number of different metacharacters liested in the documentation. For instance, \\s matches any whitespace character.\n",
    "# There are three other quantifiers we can use to shorten up the curly brace syntaz. For example we can use the asterisk character in order to match zero or more times.\n",
    "re.findall(\"[\\w ]*\\[edit\\]\", ferpa) # This will check for all of the instances where a character or a number is followed by [edit\\]\n"
   ]
  },
  {
   "cell_type": "code",
   "execution_count": 12,
   "id": "a466cd60-05bd-42de-969c-8f2c7f9423d6",
   "metadata": {},
   "outputs": [],
   "source": [
    "re.findall(\"[\\w ]*\\[edit\\]\", ferpa)\n",
    "titles = re.findall(\"[\\w ]*\\[edit\\]\", ferpa)"
   ]
  },
  {
   "cell_type": "code",
   "execution_count": 13,
   "id": "91c2441f-30c1-4133-be3a-80c594bdb3bf",
   "metadata": {},
   "outputs": [
    {
     "name": "stdout",
     "output_type": "stream",
     "text": [
      "['Family Educational Rights and Privacy Act[edit]', 'Overview[edit]', 'Student medical records[edit]', 'Access to public records[edit]']\n"
     ]
    }
   ],
   "source": [
    "titles = [title[1:] if title.startswith(\"\\n\") or title.startswith(\"n\") else title for title in titles]\n",
    "print(titles)"
   ]
  },
  {
   "cell_type": "code",
   "execution_count": 14,
   "id": "6aba7452-b6ca-44a2-bb55-d6249ce5009a",
   "metadata": {},
   "outputs": [
    {
     "name": "stdout",
     "output_type": "stream",
     "text": [
      "['Family Educational Rights and Privacy Act', 'Overview', 'Student medical records', 'Access to public records']\n"
     ]
    }
   ],
   "source": [
    "titles = [(re.split(\"[\\[]\",title))[0] for title in titles]\n",
    "print(titles)"
   ]
  },
  {
   "cell_type": "code",
   "execution_count": 15,
   "id": "773cfadb-8604-48ed-81be-3f79b89f941d",
   "metadata": {},
   "outputs": [],
   "source": [
    "# OK im kind of shocked at how well ive been able to clean and extract that from the file, although im sure that there are easier ways to do it with regex."
   ]
  },
  {
   "cell_type": "markdown",
   "id": "19dfc35f-e290-44c4-ba8b-c17c77b7c673",
   "metadata": {},
   "source": [
    "Groups"
   ]
  },
  {
   "cell_type": "code",
   "execution_count": 16,
   "id": "96c4ac41-4234-42a3-8288-5ac742c2f032",
   "metadata": {},
   "outputs": [
    {
     "data": {
      "text/plain": [
       "[('Family Educational Rights and Privacy Act', '[edit]'),\n",
       " ('nOverview', '[edit]'),\n",
       " ('nStudent medical records', '[edit]'),\n",
       " ('nAccess to public records', '[edit]')]"
      ]
     },
     "execution_count": 16,
     "metadata": {},
     "output_type": "execute_result"
    }
   ],
   "source": [
    "# We can group patterns together using parenthesis.\n",
    "re.findall(\"([\\w ]*)(\\[edit\\])\", ferpa)"
   ]
  },
  {
   "cell_type": "code",
   "execution_count": 17,
   "id": "1f69b68a-fb3b-4a69-8437-dd62e0ca66e5",
   "metadata": {},
   "outputs": [
    {
     "name": "stdout",
     "output_type": "stream",
     "text": [
      "('Family Educational Rights and Privacy Act', '[edit]')\n",
      "('nOverview', '[edit]')\n",
      "('nStudent medical records', '[edit]')\n",
      "('nAccess to public records', '[edit]')\n"
     ]
    }
   ],
   "source": [
    "for item in re.finditer(\"([\\w ]*)(\\[edit\\])\", ferpa):\n",
    "    print(item.groups())"
   ]
  },
  {
   "cell_type": "code",
   "execution_count": 18,
   "id": "985b152e-67f8-4c27-9ec4-cba9eabf32c2",
   "metadata": {},
   "outputs": [
    {
     "name": "stdout",
     "output_type": "stream",
     "text": [
      "['Family Educational Rights and Privacy Act', 'Overview', 'Student medical records', 'Access to public records']\n"
     ]
    }
   ],
   "source": [
    "titles = []\n",
    "for item in re.finditer(\"([\\w ]*)(\\[edit\\])\", ferpa):\n",
    "    titles.append(item.group(1))\n",
    "titles = [title[1:] if title.startswith(\"n\") else title for title in titles]\n",
    "print(titles)"
   ]
  },
  {
   "cell_type": "code",
   "execution_count": 23,
   "id": "9420b494-93bf-482e-a2a4-42b715ee0735",
   "metadata": {},
   "outputs": [
    {
     "name": "stdout",
     "output_type": "stream",
     "text": [
      "Family Educational Rights and Privacy Act\n",
      "nOverview\n",
      "nStudent medical records\n",
      "nAccess to public records\n"
     ]
    }
   ],
   "source": [
    "# To name groups, we use a naming scheme as follows: ?P<name>\n",
    "# The ?P indicates this is an extension to basic regexes, and we replace the name with the dictionary key wen want to use, wrapped with <>.\n",
    "for item in re.finditer(\"(?P<title>[\\w ]*)(?P<edit_link>\\[edit\\])\",ferpa):\n",
    "    print(item.groupdict()[\"title\"])"
   ]
  },
  {
   "cell_type": "code",
   "execution_count": 24,
   "id": "aa27d0ca-f76c-449e-9978-94a2490b7be5",
   "metadata": {},
   "outputs": [
    {
     "name": "stdout",
     "output_type": "stream",
     "text": [
      "{'title': 'nAccess to public records', 'edit_link': '[edit]'}\n"
     ]
    }
   ],
   "source": [
    "print(item.groupdict())"
   ]
  },
  {
   "cell_type": "markdown",
   "id": "eb8abaab-d554-42b4-96e5-8df92624198d",
   "metadata": {},
   "source": [
    "Now we know that we can match idividual character patterns with [], match groups together with (), and we can use quantifiers like *,? and m{n} to describe patterns. \n",
    "\n",
    "Also, we can use metacharacters like \\w in order to represent any word character. We can also use a . for any character that isnt a newline (\\n), a \\d for any digit and a \\s for any whitespace character, like spaces and tabs."
   ]
  },
  {
   "cell_type": "markdown",
   "id": "9733a71d-f105-43b3-842e-a90fd0ebf9c7",
   "metadata": {},
   "source": [
    "Look-ahead and Look-behind Matching"
   ]
  },
  {
   "cell_type": "markdown",
   "id": "aa2cb0c5-d7e0-4f54-95c3-595718b8587e",
   "metadata": {},
   "source": [
    "This lets us look at the text that is either ahead or behind the text we are trying to isolate. For eample, in our headers we want to isolate text which comes before the [edit] rendering, but we actually dont care about the [edit] text itself. Thus far, we jgave been throwing the [edit] away , but if we want to use them to match, but dont want to capture them, we could put them in a group, and use look ahead instead, with ?= syntax."
   ]
  },
  {
   "cell_type": "code",
   "execution_count": 26,
   "id": "f07387c8-bfc5-4ada-94be-bebf8e270cc6",
   "metadata": {},
   "outputs": [
    {
     "name": "stdout",
     "output_type": "stream",
     "text": [
      "<re.Match object; span=(0, 41), match='Family Educational Rights and Privacy Act'>\n",
      "<re.Match object; span=(347, 356), match='nOverview'>\n",
      "<re.Match object; span=(842, 866), match='nStudent medical records'>\n",
      "<re.Match object; span=(1176, 1201), match='nAccess to public records'>\n"
     ]
    }
   ],
   "source": [
    "for item in re.finditer(\"(?P<title>[\\w ]+)(?=\\[edit\\])\", ferpa):\n",
    "    print(item)"
   ]
  },
  {
   "cell_type": "markdown",
   "id": "02476eef-88d6-4810-a33b-6d730acd969a",
   "metadata": {},
   "source": [
    "Example: Wikipedia Data"
   ]
  },
  {
   "cell_type": "code",
   "execution_count": 28,
   "id": "5a8c0ccb-fbc2-4cb1-9aab-6aa6ff58d478",
   "metadata": {},
   "outputs": [
    {
     "data": {
      "text/plain": [
       "'\\'Buddhist universities and colleges in the United States\\\\nFrom Wikipedia, the free encyclopedia\\\\nJump to navigation Jump to search\\\\n\\\\nThis article needs additional citations for verification. Please help improve this article by adding citations to reliable sources. Unsourced material may be challenged and removed. \\\\nFind sources: \"Buddhist universities and colleges in the United States* - news • newspapers • books • scholar • JSTOR (December 2009) (Learn how and when to remove this template message) \\\\nThere are several Buddhist universities in the United States. Some of these have existed for decades and are accredited. Others are relatively new and are either in the process of being accredited or else have no formal accreditation. The list includes:\\\\n\\\\nDhammakaya Open University - located in Azusa, California, part of the Thai Wat Phra Dhammakaya[1]\\\\nDharmakirti College - located in Tucson, Arizona Now called Awam Tibetan Buddhist Institute (http://awaminstitute.org/)\\\\nDharma Realm Buddhist University - located in Uklah, California\\\\nEwam Buddhist Institute - located in Arlee, Montana\\\\nNaropa University is located in Boulder, Colorado (Accredited by the Higher Learning Commission)\\\\nInstitute of Buddhist Studies - located in Berkeley, California\\\\Maitripa College - located in Portland, Oregon\\\\nSoka University of America - located in Aliso Viejo, California\\\\nUniversity of the West - located in Rosemead, California\\\\nWon Institute of Graduate Studies - located in Glenside, Pennsylvania\\\\nReferences [edit]\\\\n^ Banchanon, Phongphiphat (3 February 2015). รู้จัก \"เครือข่ายธรรมกาย\" [Getting to know the Dhammakaya network]. Forbes Thailand (in Thai). Retrieved 11 November 2016. \\\\nExternal links[edit]\\\\nList of Buddhist Universities and Colleges in the world\\\\n\\'\\n'"
      ]
     },
     "execution_count": 28,
     "metadata": {},
     "output_type": "execute_result"
    }
   ],
   "source": [
    "with open(\"bhuddist.txt\", \"r\") as file:\n",
    "    wiki = file.read()\n",
    "wiki"
   ]
  },
  {
   "cell_type": "markdown",
   "id": "ff044b3f-84fc-48f9-a537-6467c83ceb38",
   "metadata": {},
   "source": [
    "Now we are going to use the verbose mode of python for regexes, we will be allowed to write multi-line regexes, increasing readability. For this, we have to explicitly indicate all of our whitespace characters, whether by using the \\ or by using the \\s.\n"
   ]
  },
  {
   "cell_type": "code",
   "execution_count": 33,
   "id": "36e11330-9d17-47f2-be12-86b1798103d5",
   "metadata": {
    "tags": []
   },
   "outputs": [
    {
     "name": "stdout",
     "output_type": "stream",
     "text": [
      "{'title': ' news • newspapers • books • scholar • JSTOR (December 2009) (Learn how and when to remove this template message) \\\\nThere are several Buddhist universities in the United States. Some of these have existed for decades and are accredited. Others are relatively new and are either in the process of being accredited or else have no formal accreditation. The list includes:\\\\n\\\\nDhammakaya Open University ', 'city': 'Azusa', 'state': 'California'}\n",
      "{'title': ', part of the Thai Wat Phra Dhammakaya[1]\\\\nDharmakirti College ', 'city': 'Tucson', 'state': 'Arizona'}\n",
      "{'title': ' Now called Awam Tibetan Buddhist Institute (http://awaminstitute.org/)\\\\nDharma Realm Buddhist University ', 'city': 'Uklah', 'state': 'California'}\n",
      "{'title': '\\\\nEwam Buddhist Institute ', 'city': 'Arlee', 'state': 'Montana'}\n",
      "{'title': '\\\\nNaropa University is located in Boulder, Colorado (Accredited by the Higher Learning Commission)\\\\nInstitute of Buddhist Studies ', 'city': 'Berkeley', 'state': 'California'}\n",
      "{'title': '\\\\Maitripa College ', 'city': 'Portland', 'state': 'Oregon'}\n",
      "{'title': ' located in Aliso Viejo, California\\\\nUniversity of the West ', 'city': 'Rosemead', 'state': 'California'}\n",
      "{'title': '\\\\nWon Institute of Graduate Studies ', 'city': 'Glenside', 'state': 'Pennsylvania'}\n"
     ]
    }
   ],
   "source": [
    "pattern = \"\"\"\n",
    "(?P<title>[^\\n\\r-]+?) # The university title, we are using the period because the title can have words, numbers, or symbols, so we dont use \\w, as that would ignore brackets, for example.\n",
    "(-\\ located\\ in\\ ) # Location indicator, we are using the \"\\\" in order to tell the compiler that this is a whitespace.\n",
    "(?P<city>\\w*) # Here we are simply looking for a city name that has all word characters, no symbols\n",
    "(,\\ ) # This is simply the separator for the city and state, it is followed by the \\ in order to show that there should be a space afterward.\n",
    "(?P<state>\\w*)# Here we are simply looking for a state name that has all word characters, no symbols\n",
    "\"\"\"\n",
    "\n",
    "for item in re.finditer(pattern,wiki,re.VERBOSE):\n",
    "    print(item.groupdict())"
   ]
  },
  {
   "cell_type": "code",
   "execution_count": null,
   "id": "77740e2e-bc69-4dea-8806-f61d0ce7fd89",
   "metadata": {},
   "outputs": [],
   "source": []
  }
 ],
 "metadata": {
  "kernelspec": {
   "display_name": "Python 3 (ipykernel)",
   "language": "python",
   "name": "python3"
  },
  "language_info": {
   "codemirror_mode": {
    "name": "ipython",
    "version": 3
   },
   "file_extension": ".py",
   "mimetype": "text/x-python",
   "name": "python",
   "nbconvert_exporter": "python",
   "pygments_lexer": "ipython3",
   "version": "3.9.13"
  }
 },
 "nbformat": 4,
 "nbformat_minor": 5
}
